{
 "cells": [
  {
   "cell_type": "markdown",
   "metadata": {},
   "source": [
    "<h3>Objective:</h3>Use machine learning to detect fraud transactions"
   ]
  },
  {
   "cell_type": "code",
   "execution_count": 132,
   "metadata": {},
   "outputs": [],
   "source": [
    "#load packages\n",
    "import pandas as pd\n",
    "import numpy as np\n",
    "import calendar\n",
    "from matplotlib import pyplot as plt\n",
    "import seaborn as sns\n",
    "from sklearn.model_selection import train_test_split\n",
    "from sklearn.linear_model import LogisticRegression\n",
    "from sklearn.metrics import classification_report\n",
    "from sklearn.metrics import confusion_matrix, accuracy_score\n",
    "from sklearn.feature_selection import RFE\n",
    "from imblearn.over_sampling import SMOTE\n",
    "import statsmodels.api as sm\n",
    "%matplotlib inline\n",
    "\n",
    "#load the dataset\n",
    "training_data = pd.read_csv(\"./data/training.csv\")\n",
    "test_data = pd.read_csv(\"./data/test.csv\")\n"
   ]
  },
  {
   "cell_type": "markdown",
   "metadata": {},
   "source": [
    "<strong>Data Exploration</strong>\n",
    "<p>Examine the data types and see if there are any missing values</p>"
   ]
  },
  {
   "cell_type": "code",
   "execution_count": 2,
   "metadata": {},
   "outputs": [
    {
     "name": "stdout",
     "output_type": "stream",
     "text": [
      "<class 'pandas.core.frame.DataFrame'>\n",
      "RangeIndex: 95662 entries, 0 to 95661\n",
      "Data columns (total 16 columns):\n",
      "TransactionId           95662 non-null object\n",
      "BatchId                 95662 non-null object\n",
      "AccountId               95662 non-null object\n",
      "SubscriptionId          95662 non-null object\n",
      "CustomerId              95662 non-null object\n",
      "CurrencyCode            95662 non-null object\n",
      "CountryCode             95662 non-null int64\n",
      "ProviderId              95662 non-null object\n",
      "ProductId               95662 non-null object\n",
      "ProductCategory         95662 non-null object\n",
      "ChannelId               95662 non-null object\n",
      "Amount                  95662 non-null float64\n",
      "Value                   95662 non-null int64\n",
      "TransactionStartTime    95662 non-null object\n",
      "PricingStrategy         95662 non-null int64\n",
      "FraudResult             95662 non-null int64\n",
      "dtypes: float64(1), int64(4), object(11)\n",
      "memory usage: 11.7+ MB\n"
     ]
    }
   ],
   "source": [
    "#check the data  types & any missing values\n",
    "training_data.info()"
   ]
  },
  {
   "cell_type": "code",
   "execution_count": 3,
   "metadata": {
    "scrolled": false
   },
   "outputs": [
    {
     "data": {
      "text/html": [
       "<div>\n",
       "<style scoped>\n",
       "    .dataframe tbody tr th:only-of-type {\n",
       "        vertical-align: middle;\n",
       "    }\n",
       "\n",
       "    .dataframe tbody tr th {\n",
       "        vertical-align: top;\n",
       "    }\n",
       "\n",
       "    .dataframe thead th {\n",
       "        text-align: right;\n",
       "    }\n",
       "</style>\n",
       "<table border=\"1\" class=\"dataframe\">\n",
       "  <thead>\n",
       "    <tr style=\"text-align: right;\">\n",
       "      <th></th>\n",
       "      <th>TransactionId</th>\n",
       "      <th>BatchId</th>\n",
       "      <th>AccountId</th>\n",
       "      <th>SubscriptionId</th>\n",
       "      <th>CustomerId</th>\n",
       "      <th>CurrencyCode</th>\n",
       "      <th>CountryCode</th>\n",
       "      <th>ProviderId</th>\n",
       "      <th>ProductId</th>\n",
       "      <th>ProductCategory</th>\n",
       "      <th>ChannelId</th>\n",
       "      <th>Amount</th>\n",
       "      <th>Value</th>\n",
       "      <th>TransactionStartTime</th>\n",
       "      <th>PricingStrategy</th>\n",
       "      <th>FraudResult</th>\n",
       "    </tr>\n",
       "  </thead>\n",
       "  <tbody>\n",
       "    <tr>\n",
       "      <th>0</th>\n",
       "      <td>TransactionId_76871</td>\n",
       "      <td>BatchId_36123</td>\n",
       "      <td>AccountId_3957</td>\n",
       "      <td>SubscriptionId_887</td>\n",
       "      <td>CustomerId_4406</td>\n",
       "      <td>UGX</td>\n",
       "      <td>256</td>\n",
       "      <td>ProviderId_6</td>\n",
       "      <td>ProductId_10</td>\n",
       "      <td>airtime</td>\n",
       "      <td>ChannelId_3</td>\n",
       "      <td>1000.0</td>\n",
       "      <td>1000</td>\n",
       "      <td>2018-11-15T02:18:49Z</td>\n",
       "      <td>2</td>\n",
       "      <td>0</td>\n",
       "    </tr>\n",
       "    <tr>\n",
       "      <th>1</th>\n",
       "      <td>TransactionId_73770</td>\n",
       "      <td>BatchId_15642</td>\n",
       "      <td>AccountId_4841</td>\n",
       "      <td>SubscriptionId_3829</td>\n",
       "      <td>CustomerId_4406</td>\n",
       "      <td>UGX</td>\n",
       "      <td>256</td>\n",
       "      <td>ProviderId_4</td>\n",
       "      <td>ProductId_6</td>\n",
       "      <td>financial_services</td>\n",
       "      <td>ChannelId_2</td>\n",
       "      <td>-20.0</td>\n",
       "      <td>20</td>\n",
       "      <td>2018-11-15T02:19:08Z</td>\n",
       "      <td>2</td>\n",
       "      <td>0</td>\n",
       "    </tr>\n",
       "    <tr>\n",
       "      <th>2</th>\n",
       "      <td>TransactionId_26203</td>\n",
       "      <td>BatchId_53941</td>\n",
       "      <td>AccountId_4229</td>\n",
       "      <td>SubscriptionId_222</td>\n",
       "      <td>CustomerId_4683</td>\n",
       "      <td>UGX</td>\n",
       "      <td>256</td>\n",
       "      <td>ProviderId_6</td>\n",
       "      <td>ProductId_1</td>\n",
       "      <td>airtime</td>\n",
       "      <td>ChannelId_3</td>\n",
       "      <td>500.0</td>\n",
       "      <td>500</td>\n",
       "      <td>2018-11-15T02:44:21Z</td>\n",
       "      <td>2</td>\n",
       "      <td>0</td>\n",
       "    </tr>\n",
       "    <tr>\n",
       "      <th>3</th>\n",
       "      <td>TransactionId_380</td>\n",
       "      <td>BatchId_102363</td>\n",
       "      <td>AccountId_648</td>\n",
       "      <td>SubscriptionId_2185</td>\n",
       "      <td>CustomerId_988</td>\n",
       "      <td>UGX</td>\n",
       "      <td>256</td>\n",
       "      <td>ProviderId_1</td>\n",
       "      <td>ProductId_21</td>\n",
       "      <td>utility_bill</td>\n",
       "      <td>ChannelId_3</td>\n",
       "      <td>20000.0</td>\n",
       "      <td>21800</td>\n",
       "      <td>2018-11-15T03:32:55Z</td>\n",
       "      <td>2</td>\n",
       "      <td>0</td>\n",
       "    </tr>\n",
       "    <tr>\n",
       "      <th>4</th>\n",
       "      <td>TransactionId_28195</td>\n",
       "      <td>BatchId_38780</td>\n",
       "      <td>AccountId_4841</td>\n",
       "      <td>SubscriptionId_3829</td>\n",
       "      <td>CustomerId_988</td>\n",
       "      <td>UGX</td>\n",
       "      <td>256</td>\n",
       "      <td>ProviderId_4</td>\n",
       "      <td>ProductId_6</td>\n",
       "      <td>financial_services</td>\n",
       "      <td>ChannelId_2</td>\n",
       "      <td>-644.0</td>\n",
       "      <td>644</td>\n",
       "      <td>2018-11-15T03:34:21Z</td>\n",
       "      <td>2</td>\n",
       "      <td>0</td>\n",
       "    </tr>\n",
       "  </tbody>\n",
       "</table>\n",
       "</div>"
      ],
      "text/plain": [
       "         TransactionId         BatchId       AccountId       SubscriptionId  \\\n",
       "0  TransactionId_76871   BatchId_36123  AccountId_3957   SubscriptionId_887   \n",
       "1  TransactionId_73770   BatchId_15642  AccountId_4841  SubscriptionId_3829   \n",
       "2  TransactionId_26203   BatchId_53941  AccountId_4229   SubscriptionId_222   \n",
       "3    TransactionId_380  BatchId_102363   AccountId_648  SubscriptionId_2185   \n",
       "4  TransactionId_28195   BatchId_38780  AccountId_4841  SubscriptionId_3829   \n",
       "\n",
       "        CustomerId CurrencyCode  CountryCode    ProviderId     ProductId  \\\n",
       "0  CustomerId_4406          UGX          256  ProviderId_6  ProductId_10   \n",
       "1  CustomerId_4406          UGX          256  ProviderId_4   ProductId_6   \n",
       "2  CustomerId_4683          UGX          256  ProviderId_6   ProductId_1   \n",
       "3   CustomerId_988          UGX          256  ProviderId_1  ProductId_21   \n",
       "4   CustomerId_988          UGX          256  ProviderId_4   ProductId_6   \n",
       "\n",
       "      ProductCategory    ChannelId   Amount  Value  TransactionStartTime  \\\n",
       "0             airtime  ChannelId_3   1000.0   1000  2018-11-15T02:18:49Z   \n",
       "1  financial_services  ChannelId_2    -20.0     20  2018-11-15T02:19:08Z   \n",
       "2             airtime  ChannelId_3    500.0    500  2018-11-15T02:44:21Z   \n",
       "3        utility_bill  ChannelId_3  20000.0  21800  2018-11-15T03:32:55Z   \n",
       "4  financial_services  ChannelId_2   -644.0    644  2018-11-15T03:34:21Z   \n",
       "\n",
       "   PricingStrategy  FraudResult  \n",
       "0                2            0  \n",
       "1                2            0  \n",
       "2                2            0  \n",
       "3                2            0  \n",
       "4                2            0  "
      ]
     },
     "execution_count": 3,
     "metadata": {},
     "output_type": "execute_result"
    }
   ],
   "source": [
    "#explore the data:take a look at the top data\n",
    "training_data.head()"
   ]
  },
  {
   "cell_type": "code",
   "execution_count": 55,
   "metadata": {},
   "outputs": [
    {
     "name": "stdout",
     "output_type": "stream",
     "text": [
      "accounts: 3633 customers: 3742 subscriptions: 3627 transactions: 95662 batches: 94809\n"
     ]
    }
   ],
   "source": [
    "#How many unique accounts,transactions, customers,batches & subscriptions\n",
    "accounts = training_data.AccountId.nunique()\n",
    "customers = training_data.CustomerId.nunique()\n",
    "subscriptions =training_data.SubscriptionId.nunique() \n",
    "transactions  = training_data.TransactionId.nunique()\n",
    "batches = training_data.BatchId.nunique()\n",
    "print(\"accounts:\",accounts,\"customers:\",customers,\"subscriptions:\",subscriptions,\"transactions:\",transactions,\"batches:\",batches)\n"
   ]
  },
  {
   "cell_type": "markdown",
   "metadata": {},
   "source": [
    "<strong>Data Transformation</strong>\n",
    "<p>Do a bit of feature engineering using the transaction time. \n",
    "Transform these dates into year, month, day & day of the week</p>"
   ]
  },
  {
   "cell_type": "code",
   "execution_count": 4,
   "metadata": {},
   "outputs": [
    {
     "data": {
      "text/plain": [
       "0    2018-11-15T02:18:49Z\n",
       "1    2018-11-15T02:19:08Z\n",
       "2    2018-11-15T02:44:21Z\n",
       "3    2018-11-15T03:32:55Z\n",
       "4    2018-11-15T03:34:21Z\n",
       "5    2018-11-15T03:35:10Z\n",
       "6    2018-11-15T03:44:31Z\n",
       "7    2018-11-15T03:45:13Z\n",
       "8    2018-11-15T04:14:59Z\n",
       "9    2018-11-15T04:31:48Z\n",
       "Name: TransactionStartTime, dtype: object"
      ]
     },
     "execution_count": 4,
     "metadata": {},
     "output_type": "execute_result"
    }
   ],
   "source": [
    "#Take a snapshot of the data so we know it's structure\n",
    "training_data['TransactionStartTime'][:10]"
   ]
  },
  {
   "cell_type": "code",
   "execution_count": 133,
   "metadata": {},
   "outputs": [],
   "source": [
    "#Define a function to extract year, month,day & hour from date column\n",
    "def extract_date(data,column):\n",
    "    '''The function take a dataframe and a column string arguments'''\n",
    "    data[\"TransactionYear\"]= data[column].apply(lambda x: x.year)\n",
    "    data[\"TransactionMonth\"]= data[column].apply(lambda x: x.month_name())\n",
    "    data[\"TransactionDay\"]= data[column].apply(lambda x: x.day_name())\n",
    "    data[\"TransactionDayNum\"]= data[column].apply(lambda x: x.dayofweek)\n",
    "    data[\"TransactionHour\"]= data[column].apply(lambda x: x.time().hour)\n",
    "    \n",
    "    \n",
    "#add date & Month to the data\n",
    "#convert TransactionStartTime to data\n",
    "training_data['TransactionStartTime'] = pd.to_datetime(training_data['TransactionStartTime'])\n",
    "extract_date(training_data,'TransactionStartTime')\n",
    "\n",
    "\n",
    "#classify day of transaction as either weekend or weekday\n",
    "training_data['DayofWeek']= np.where(training_data['TransactionDayNum']>5,'Weekend','Weekday')\n",
    "\n",
    "#classify the time of day into morning,afternoon,evening(/night)\n",
    "time_conditions=[(training_data['TransactionHour'])>18,\n",
    "                (training_data['TransactionHour'])>12,\n",
    "                (training_data['TransactionHour'])>5]\n",
    "time_choices=['Night','Afternoon','Morning']\n",
    "\n",
    "#split the time of transaction\n",
    "training_data['TimeofDay']= np.select(time_conditions,time_choices,default='Night')\n",
    "    "
   ]
  },
  {
   "cell_type": "code",
   "execution_count": 134,
   "metadata": {
    "scrolled": true
   },
   "outputs": [
    {
     "data": {
      "text/html": [
       "<div>\n",
       "<style scoped>\n",
       "    .dataframe tbody tr th:only-of-type {\n",
       "        vertical-align: middle;\n",
       "    }\n",
       "\n",
       "    .dataframe tbody tr th {\n",
       "        vertical-align: top;\n",
       "    }\n",
       "\n",
       "    .dataframe thead th {\n",
       "        text-align: right;\n",
       "    }\n",
       "</style>\n",
       "<table border=\"1\" class=\"dataframe\">\n",
       "  <thead>\n",
       "    <tr style=\"text-align: right;\">\n",
       "      <th></th>\n",
       "      <th>TransactionId</th>\n",
       "      <th>BatchId</th>\n",
       "      <th>AccountId</th>\n",
       "      <th>SubscriptionId</th>\n",
       "      <th>CustomerId</th>\n",
       "      <th>CurrencyCode</th>\n",
       "      <th>CountryCode</th>\n",
       "      <th>ProviderId</th>\n",
       "      <th>ProductId</th>\n",
       "      <th>ProductCategory</th>\n",
       "      <th>...</th>\n",
       "      <th>TransactionStartTime</th>\n",
       "      <th>PricingStrategy</th>\n",
       "      <th>FraudResult</th>\n",
       "      <th>TransactionYear</th>\n",
       "      <th>TransactionMonth</th>\n",
       "      <th>TransactionDay</th>\n",
       "      <th>TransactionDayNum</th>\n",
       "      <th>TransactionHour</th>\n",
       "      <th>DayofWeek</th>\n",
       "      <th>TimeofDay</th>\n",
       "    </tr>\n",
       "  </thead>\n",
       "  <tbody>\n",
       "    <tr>\n",
       "      <th>0</th>\n",
       "      <td>TransactionId_76871</td>\n",
       "      <td>BatchId_36123</td>\n",
       "      <td>AccountId_3957</td>\n",
       "      <td>SubscriptionId_887</td>\n",
       "      <td>CustomerId_4406</td>\n",
       "      <td>UGX</td>\n",
       "      <td>256</td>\n",
       "      <td>ProviderId_6</td>\n",
       "      <td>ProductId_10</td>\n",
       "      <td>airtime</td>\n",
       "      <td>...</td>\n",
       "      <td>2018-11-15 02:18:49</td>\n",
       "      <td>2</td>\n",
       "      <td>0</td>\n",
       "      <td>2018</td>\n",
       "      <td>November</td>\n",
       "      <td>Thursday</td>\n",
       "      <td>3</td>\n",
       "      <td>2</td>\n",
       "      <td>Weekday</td>\n",
       "      <td>Night</td>\n",
       "    </tr>\n",
       "    <tr>\n",
       "      <th>1</th>\n",
       "      <td>TransactionId_73770</td>\n",
       "      <td>BatchId_15642</td>\n",
       "      <td>AccountId_4841</td>\n",
       "      <td>SubscriptionId_3829</td>\n",
       "      <td>CustomerId_4406</td>\n",
       "      <td>UGX</td>\n",
       "      <td>256</td>\n",
       "      <td>ProviderId_4</td>\n",
       "      <td>ProductId_6</td>\n",
       "      <td>financial_services</td>\n",
       "      <td>...</td>\n",
       "      <td>2018-11-15 02:19:08</td>\n",
       "      <td>2</td>\n",
       "      <td>0</td>\n",
       "      <td>2018</td>\n",
       "      <td>November</td>\n",
       "      <td>Thursday</td>\n",
       "      <td>3</td>\n",
       "      <td>2</td>\n",
       "      <td>Weekday</td>\n",
       "      <td>Night</td>\n",
       "    </tr>\n",
       "    <tr>\n",
       "      <th>2</th>\n",
       "      <td>TransactionId_26203</td>\n",
       "      <td>BatchId_53941</td>\n",
       "      <td>AccountId_4229</td>\n",
       "      <td>SubscriptionId_222</td>\n",
       "      <td>CustomerId_4683</td>\n",
       "      <td>UGX</td>\n",
       "      <td>256</td>\n",
       "      <td>ProviderId_6</td>\n",
       "      <td>ProductId_1</td>\n",
       "      <td>airtime</td>\n",
       "      <td>...</td>\n",
       "      <td>2018-11-15 02:44:21</td>\n",
       "      <td>2</td>\n",
       "      <td>0</td>\n",
       "      <td>2018</td>\n",
       "      <td>November</td>\n",
       "      <td>Thursday</td>\n",
       "      <td>3</td>\n",
       "      <td>2</td>\n",
       "      <td>Weekday</td>\n",
       "      <td>Night</td>\n",
       "    </tr>\n",
       "    <tr>\n",
       "      <th>3</th>\n",
       "      <td>TransactionId_380</td>\n",
       "      <td>BatchId_102363</td>\n",
       "      <td>AccountId_648</td>\n",
       "      <td>SubscriptionId_2185</td>\n",
       "      <td>CustomerId_988</td>\n",
       "      <td>UGX</td>\n",
       "      <td>256</td>\n",
       "      <td>ProviderId_1</td>\n",
       "      <td>ProductId_21</td>\n",
       "      <td>utility_bill</td>\n",
       "      <td>...</td>\n",
       "      <td>2018-11-15 03:32:55</td>\n",
       "      <td>2</td>\n",
       "      <td>0</td>\n",
       "      <td>2018</td>\n",
       "      <td>November</td>\n",
       "      <td>Thursday</td>\n",
       "      <td>3</td>\n",
       "      <td>3</td>\n",
       "      <td>Weekday</td>\n",
       "      <td>Night</td>\n",
       "    </tr>\n",
       "    <tr>\n",
       "      <th>4</th>\n",
       "      <td>TransactionId_28195</td>\n",
       "      <td>BatchId_38780</td>\n",
       "      <td>AccountId_4841</td>\n",
       "      <td>SubscriptionId_3829</td>\n",
       "      <td>CustomerId_988</td>\n",
       "      <td>UGX</td>\n",
       "      <td>256</td>\n",
       "      <td>ProviderId_4</td>\n",
       "      <td>ProductId_6</td>\n",
       "      <td>financial_services</td>\n",
       "      <td>...</td>\n",
       "      <td>2018-11-15 03:34:21</td>\n",
       "      <td>2</td>\n",
       "      <td>0</td>\n",
       "      <td>2018</td>\n",
       "      <td>November</td>\n",
       "      <td>Thursday</td>\n",
       "      <td>3</td>\n",
       "      <td>3</td>\n",
       "      <td>Weekday</td>\n",
       "      <td>Night</td>\n",
       "    </tr>\n",
       "    <tr>\n",
       "      <th>5</th>\n",
       "      <td>TransactionId_23223</td>\n",
       "      <td>BatchId_25954</td>\n",
       "      <td>AccountId_1078</td>\n",
       "      <td>SubscriptionId_4238</td>\n",
       "      <td>CustomerId_1432</td>\n",
       "      <td>UGX</td>\n",
       "      <td>256</td>\n",
       "      <td>ProviderId_6</td>\n",
       "      <td>ProductId_3</td>\n",
       "      <td>airtime</td>\n",
       "      <td>...</td>\n",
       "      <td>2018-11-15 03:35:10</td>\n",
       "      <td>2</td>\n",
       "      <td>0</td>\n",
       "      <td>2018</td>\n",
       "      <td>November</td>\n",
       "      <td>Thursday</td>\n",
       "      <td>3</td>\n",
       "      <td>3</td>\n",
       "      <td>Weekday</td>\n",
       "      <td>Night</td>\n",
       "    </tr>\n",
       "    <tr>\n",
       "      <th>6</th>\n",
       "      <td>TransactionId_118063</td>\n",
       "      <td>BatchId_118460</td>\n",
       "      <td>AccountId_2442</td>\n",
       "      <td>SubscriptionId_1980</td>\n",
       "      <td>CustomerId_2858</td>\n",
       "      <td>UGX</td>\n",
       "      <td>256</td>\n",
       "      <td>ProviderId_5</td>\n",
       "      <td>ProductId_3</td>\n",
       "      <td>airtime</td>\n",
       "      <td>...</td>\n",
       "      <td>2018-11-15 03:44:31</td>\n",
       "      <td>4</td>\n",
       "      <td>0</td>\n",
       "      <td>2018</td>\n",
       "      <td>November</td>\n",
       "      <td>Thursday</td>\n",
       "      <td>3</td>\n",
       "      <td>3</td>\n",
       "      <td>Weekday</td>\n",
       "      <td>Night</td>\n",
       "    </tr>\n",
       "    <tr>\n",
       "      <th>7</th>\n",
       "      <td>TransactionId_100640</td>\n",
       "      <td>BatchId_38561</td>\n",
       "      <td>AccountId_4841</td>\n",
       "      <td>SubscriptionId_3829</td>\n",
       "      <td>CustomerId_2858</td>\n",
       "      <td>UGX</td>\n",
       "      <td>256</td>\n",
       "      <td>ProviderId_4</td>\n",
       "      <td>ProductId_6</td>\n",
       "      <td>financial_services</td>\n",
       "      <td>...</td>\n",
       "      <td>2018-11-15 03:45:13</td>\n",
       "      <td>2</td>\n",
       "      <td>0</td>\n",
       "      <td>2018</td>\n",
       "      <td>November</td>\n",
       "      <td>Thursday</td>\n",
       "      <td>3</td>\n",
       "      <td>3</td>\n",
       "      <td>Weekday</td>\n",
       "      <td>Night</td>\n",
       "    </tr>\n",
       "    <tr>\n",
       "      <th>8</th>\n",
       "      <td>TransactionId_51905</td>\n",
       "      <td>BatchId_93774</td>\n",
       "      <td>AccountId_272</td>\n",
       "      <td>SubscriptionId_4731</td>\n",
       "      <td>CustomerId_598</td>\n",
       "      <td>UGX</td>\n",
       "      <td>256</td>\n",
       "      <td>ProviderId_6</td>\n",
       "      <td>ProductId_10</td>\n",
       "      <td>airtime</td>\n",
       "      <td>...</td>\n",
       "      <td>2018-11-15 04:14:59</td>\n",
       "      <td>2</td>\n",
       "      <td>0</td>\n",
       "      <td>2018</td>\n",
       "      <td>November</td>\n",
       "      <td>Thursday</td>\n",
       "      <td>3</td>\n",
       "      <td>4</td>\n",
       "      <td>Weekday</td>\n",
       "      <td>Night</td>\n",
       "    </tr>\n",
       "    <tr>\n",
       "      <th>9</th>\n",
       "      <td>TransactionId_130161</td>\n",
       "      <td>BatchId_82409</td>\n",
       "      <td>AccountId_710</td>\n",
       "      <td>SubscriptionId_920</td>\n",
       "      <td>CustomerId_1053</td>\n",
       "      <td>UGX</td>\n",
       "      <td>256</td>\n",
       "      <td>ProviderId_1</td>\n",
       "      <td>ProductId_15</td>\n",
       "      <td>financial_services</td>\n",
       "      <td>...</td>\n",
       "      <td>2018-11-15 04:31:48</td>\n",
       "      <td>2</td>\n",
       "      <td>0</td>\n",
       "      <td>2018</td>\n",
       "      <td>November</td>\n",
       "      <td>Thursday</td>\n",
       "      <td>3</td>\n",
       "      <td>4</td>\n",
       "      <td>Weekday</td>\n",
       "      <td>Night</td>\n",
       "    </tr>\n",
       "  </tbody>\n",
       "</table>\n",
       "<p>10 rows × 23 columns</p>\n",
       "</div>"
      ],
      "text/plain": [
       "          TransactionId         BatchId       AccountId       SubscriptionId  \\\n",
       "0   TransactionId_76871   BatchId_36123  AccountId_3957   SubscriptionId_887   \n",
       "1   TransactionId_73770   BatchId_15642  AccountId_4841  SubscriptionId_3829   \n",
       "2   TransactionId_26203   BatchId_53941  AccountId_4229   SubscriptionId_222   \n",
       "3     TransactionId_380  BatchId_102363   AccountId_648  SubscriptionId_2185   \n",
       "4   TransactionId_28195   BatchId_38780  AccountId_4841  SubscriptionId_3829   \n",
       "5   TransactionId_23223   BatchId_25954  AccountId_1078  SubscriptionId_4238   \n",
       "6  TransactionId_118063  BatchId_118460  AccountId_2442  SubscriptionId_1980   \n",
       "7  TransactionId_100640   BatchId_38561  AccountId_4841  SubscriptionId_3829   \n",
       "8   TransactionId_51905   BatchId_93774   AccountId_272  SubscriptionId_4731   \n",
       "9  TransactionId_130161   BatchId_82409   AccountId_710   SubscriptionId_920   \n",
       "\n",
       "        CustomerId CurrencyCode  CountryCode    ProviderId     ProductId  \\\n",
       "0  CustomerId_4406          UGX          256  ProviderId_6  ProductId_10   \n",
       "1  CustomerId_4406          UGX          256  ProviderId_4   ProductId_6   \n",
       "2  CustomerId_4683          UGX          256  ProviderId_6   ProductId_1   \n",
       "3   CustomerId_988          UGX          256  ProviderId_1  ProductId_21   \n",
       "4   CustomerId_988          UGX          256  ProviderId_4   ProductId_6   \n",
       "5  CustomerId_1432          UGX          256  ProviderId_6   ProductId_3   \n",
       "6  CustomerId_2858          UGX          256  ProviderId_5   ProductId_3   \n",
       "7  CustomerId_2858          UGX          256  ProviderId_4   ProductId_6   \n",
       "8   CustomerId_598          UGX          256  ProviderId_6  ProductId_10   \n",
       "9  CustomerId_1053          UGX          256  ProviderId_1  ProductId_15   \n",
       "\n",
       "      ProductCategory    ...     TransactionStartTime  PricingStrategy  \\\n",
       "0             airtime    ...      2018-11-15 02:18:49                2   \n",
       "1  financial_services    ...      2018-11-15 02:19:08                2   \n",
       "2             airtime    ...      2018-11-15 02:44:21                2   \n",
       "3        utility_bill    ...      2018-11-15 03:32:55                2   \n",
       "4  financial_services    ...      2018-11-15 03:34:21                2   \n",
       "5             airtime    ...      2018-11-15 03:35:10                2   \n",
       "6             airtime    ...      2018-11-15 03:44:31                4   \n",
       "7  financial_services    ...      2018-11-15 03:45:13                2   \n",
       "8             airtime    ...      2018-11-15 04:14:59                2   \n",
       "9  financial_services    ...      2018-11-15 04:31:48                2   \n",
       "\n",
       "   FraudResult TransactionYear  TransactionMonth  TransactionDay  \\\n",
       "0            0            2018          November        Thursday   \n",
       "1            0            2018          November        Thursday   \n",
       "2            0            2018          November        Thursday   \n",
       "3            0            2018          November        Thursday   \n",
       "4            0            2018          November        Thursday   \n",
       "5            0            2018          November        Thursday   \n",
       "6            0            2018          November        Thursday   \n",
       "7            0            2018          November        Thursday   \n",
       "8            0            2018          November        Thursday   \n",
       "9            0            2018          November        Thursday   \n",
       "\n",
       "   TransactionDayNum TransactionHour DayofWeek  TimeofDay  \n",
       "0                  3               2   Weekday      Night  \n",
       "1                  3               2   Weekday      Night  \n",
       "2                  3               2   Weekday      Night  \n",
       "3                  3               3   Weekday      Night  \n",
       "4                  3               3   Weekday      Night  \n",
       "5                  3               3   Weekday      Night  \n",
       "6                  3               3   Weekday      Night  \n",
       "7                  3               3   Weekday      Night  \n",
       "8                  3               4   Weekday      Night  \n",
       "9                  3               4   Weekday      Night  \n",
       "\n",
       "[10 rows x 23 columns]"
      ]
     },
     "execution_count": 134,
     "metadata": {},
     "output_type": "execute_result"
    }
   ],
   "source": [
    "#subset the resulting dataframe\n",
    "training_data[:10]"
   ]
  },
  {
   "cell_type": "markdown",
   "metadata": {},
   "source": [
    "<strong>Exploratory Data Analysis</strong>\n",
    "<p>We have a few fraudulent cases in the data.</p>"
   ]
  },
  {
   "cell_type": "code",
   "execution_count": 7,
   "metadata": {},
   "outputs": [
    {
     "data": {
      "text/plain": [
       "0    95469\n",
       "1      193\n",
       "Name: FraudResult, dtype: int64"
      ]
     },
     "execution_count": 7,
     "metadata": {},
     "output_type": "execute_result"
    }
   ],
   "source": [
    "#How many fraudulent cases are in the dataset?\n",
    "training_data['FraudResult'].value_counts()"
   ]
  },
  {
   "cell_type": "code",
   "execution_count": 11,
   "metadata": {},
   "outputs": [
    {
     "data": {
      "text/plain": [
       "ProductCategory\n",
       "airtime                 6049.799609\n",
       "data_bundles            3714.011159\n",
       "financial_services     12734.467570\n",
       "movies                 10988.000000\n",
       "other                    500.000000\n",
       "ticket                 96696.759259\n",
       "transport             170240.000000\n",
       "tv                     18156.438624\n",
       "utility_bill           20946.692188\n",
       "Name: Value, dtype: float64"
      ]
     },
     "execution_count": 11,
     "metadata": {},
     "output_type": "execute_result"
    }
   ],
   "source": [
    "#Compare average value for each product category\n",
    "#Average amounts spend in Transport services are higher\n",
    "training_data.groupby('ProductCategory')['Value'].mean()"
   ]
  },
  {
   "cell_type": "markdown",
   "metadata": {},
   "source": [
    "<strong>Data Visualization</strong>\n",
    "<h6>1. Daily Transactions per Product Category</h6>\n",
    "<p>Airtime and Finacial services are the most popular products with a highest number of transactions happening around 5pm</p>\n",
    "<p>Fraudulent transactions also happened between noon & 9 PM</p>"
   ]
  },
  {
   "cell_type": "code",
   "execution_count": 14,
   "metadata": {},
   "outputs": [
    {
     "data": {
      "text/plain": [
       "<matplotlib.axes._subplots.AxesSubplot at 0x1c1f34a710>"
      ]
     },
     "execution_count": 14,
     "metadata": {},
     "output_type": "execute_result"
    },
    {
     "data": {
      "image/png": "[encoded data removed]",
      "text/plain": [
       "<Figure size 720x432 with 1 Axes>"
      ]
     },
     "metadata": {
      "needs_background": "light"
     },
     "output_type": "display_data"
    }
   ],
   "source": [
    "#Plot daily transactions\n",
    "fig,ax = plt.subplots(figsize=(10,6))\n",
    "#summaize transaction by time of day\n",
    "#training_data.groupby(['TransactionHour','FraudResult']).count()['TransactionId'].unstack().plot.bar(ax=ax)\n",
    "training_data.groupby(['TransactionHour','ProductCategory']).count()['TransactionId'].unstack().plot(ax=ax)\n",
    "\n",
    "#plt.hist(training_data['TransactionDay']),\n",
    "#plt.hist(training_data['TimeofDay'])"
   ]
  },
  {
   "cell_type": "code",
   "execution_count": 16,
   "metadata": {
    "scrolled": false
   },
   "outputs": [
    {
     "data": {
      "text/plain": [
       "<matplotlib.axes._subplots.AxesSubplot at 0x1c1f44d208>"
      ]
     },
     "execution_count": 16,
     "metadata": {},
     "output_type": "execute_result"
    },
    {
     "data": {
      "image/png": "[encoded data removed]",
      "text/plain": [
       "<Figure size 720x432 with 1 Axes>"
      ]
     },
     "metadata": {
      "needs_background": "light"
     },
     "output_type": "display_data"
    }
   ],
   "source": [
    "#check frequency of fraud transactions in a given hour\n",
    "fig,ax = plt.subplots(figsize=(10,6))\n",
    "training_data.groupby(['TransactionHour','FraudResult']).count()['TransactionId'].unstack().plot.bar(ax=ax)"
   ]
  },
  {
   "cell_type": "markdown",
   "metadata": {},
   "source": [
    "<h6>2. Fraud Transactions by Product Category</h6>\n",
    "<p>Financial services had the highest number of fraudulent transactions followed by airtime.</>"
   ]
  },
  {
   "cell_type": "code",
   "execution_count": 17,
   "metadata": {},
   "outputs": [
    {
     "data": {
      "text/plain": [
       "ProductCategory     FraudResult\n",
       "airtime             0              45009\n",
       "                    1                 18\n",
       "data_bundles        0               1613\n",
       "financial_services  0              45244\n",
       "                    1                161\n",
       "movies              0                175\n",
       "other               0                  2\n",
       "ticket              0                216\n",
       "transport           0                 23\n",
       "                    1                  2\n",
       "tv                  0               1279\n",
       "utility_bill        0               1908\n",
       "                    1                 12\n",
       "Name: TransactionId, dtype: int64"
      ]
     },
     "execution_count": 17,
     "metadata": {},
     "output_type": "execute_result"
    }
   ],
   "source": [
    "#Fraud Result by product category\n",
    "training_data.groupby(['ProductCategory','FraudResult']).count()['TransactionId']#.unstack().plot.bar(ax=ax)"
   ]
  },
  {
   "cell_type": "markdown",
   "metadata": {},
   "source": [
    "<h6>3. Fraud Transactions by Value</h6>\n",
    "<p>Transactions with the highest value were more likely to be fraudulent</p>"
   ]
  },
  {
   "cell_type": "code",
   "execution_count": 18,
   "metadata": {
    "scrolled": false
   },
   "outputs": [
    {
     "data": {
      "text/plain": [
       "<matplotlib.axes._subplots.AxesSubplot at 0x1c1f4faba8>"
      ]
     },
     "execution_count": 18,
     "metadata": {},
     "output_type": "execute_result"
    },
    {
     "data": {
      "image/png": "[encoded data removed]",
      "text/plain": [
       "<Figure size 720x432 with 1 Axes>"
      ]
     },
     "metadata": {
      "needs_background": "light"
     },
     "output_type": "display_data"
    }
   ],
   "source": [
    "#compare fraud and transaction amount\n",
    "fig,ax = plt.subplots(figsize=(10,6))\n",
    "training_data.groupby(['Value','FraudResult']).count()['TransactionId'].unstack().plot(ax=ax)"
   ]
  },
  {
   "cell_type": "markdown",
   "metadata": {},
   "source": [
    "<h6> 4. Fraudulent Transactions by Provider ID</h6>\n",
    "<p>Providers 3 & 5 had the highest number of fraudulent transactions</p>"
   ]
  },
  {
   "cell_type": "code",
   "execution_count": 19,
   "metadata": {},
   "outputs": [
    {
     "data": {
      "text/plain": [
       "ProviderId    FraudResult\n",
       "ProviderId_1  0               5586\n",
       "              1                 57\n",
       "ProviderId_2  0                 18\n",
       "ProviderId_3  0               3020\n",
       "              1                 64\n",
       "ProviderId_4  0              38184\n",
       "              1                  5\n",
       "ProviderId_5  0              14478\n",
       "              1                 64\n",
       "ProviderId_6  0              34183\n",
       "              1                  3\n",
       "Name: TransactionId, dtype: int64"
      ]
     },
     "execution_count": 19,
     "metadata": {},
     "output_type": "execute_result"
    }
   ],
   "source": [
    "#compare fraud results by provider \n",
    "#fig,ax = plt.subplots(figsize=(10,6))\n",
    "training_data.groupby(['ProviderId','FraudResult']).count()['TransactionId']#.unstack().plot(ax=ax)"
   ]
  },
  {
   "cell_type": "markdown",
   "metadata": {},
   "source": [
    "<h6>5. Fraudulent Transaction by Product</h6>\n",
    "<p>Product 15 had the highest number of fraudulent results</p>"
   ]
  },
  {
   "cell_type": "code",
   "execution_count": 21,
   "metadata": {
    "scrolled": false
   },
   "outputs": [
    {
     "data": {
      "text/plain": [
       "<matplotlib.axes._subplots.AxesSubplot at 0x1c1f757160>"
      ]
     },
     "execution_count": 21,
     "metadata": {},
     "output_type": "execute_result"
    },
    {
     "data": {
      "image/png": "[encoded data removed]",
      "text/plain": [
       "<Figure size 720x432 with 1 Axes>"
      ]
     },
     "metadata": {
      "needs_background": "light"
     },
     "output_type": "display_data"
    }
   ],
   "source": [
    "#compare fraud results by product type\n",
    "#Product 15 has highest number of fraudulent transactions\n",
    "fig,ax = plt.subplots(figsize=(10,6))\n",
    "training_data.groupby(['ProductId','FraudResult']).count()['TransactionId'].unstack().plot.bar(ax=ax)"
   ]
  },
  {
   "cell_type": "markdown",
   "metadata": {},
   "source": [
    "<h6>6. Fradulent Transaction by Pricing Strategy</h6>\n",
    "<p>Pricing Strategy 2 had the highest number of fraudulent transactions though Pricing Strategy 0 has highest % of fraudulent transactions (10%)</p>"
   ]
  },
  {
   "cell_type": "code",
   "execution_count": 22,
   "metadata": {},
   "outputs": [
    {
     "data": {
      "text/plain": [
       "PricingStrategy  FraudResult\n",
       "0                0                349\n",
       "                 1                 36\n",
       "1                0               1860\n",
       "                 1                  7\n",
       "2                0              79709\n",
       "                 1                139\n",
       "4                0              13551\n",
       "                 1                 11\n",
       "Name: TransactionId, dtype: int64"
      ]
     },
     "execution_count": 22,
     "metadata": {},
     "output_type": "execute_result"
    }
   ],
   "source": [
    "#compare fraud results by pricing strategy\n",
    "#fig,ax = plt.subplots(figsize=(10,6))\n",
    "training_data.groupby(['PricingStrategy','FraudResult']).count()['TransactionId']#.unstack().plot(ax=ax)"
   ]
  },
  {
   "cell_type": "markdown",
   "metadata": {},
   "source": [
    "<h6>7. Fraudulent Transactions by Month</h6>\n",
    "<p>January & December had the highest number of fraudulent transactions</p>\n",
    "<p>Most of the Fraudulent Transactions occured in 2019. Also the majority of the fraudulent transactions happened on a weekday</p>"
   ]
  },
  {
   "cell_type": "code",
   "execution_count": 25,
   "metadata": {
    "scrolled": true
   },
   "outputs": [
    {
     "data": {
      "text/plain": [
       "TransactionMonth  FraudResult\n",
       "December          0              35573\n",
       "                  1                 62\n",
       "February          0              15719\n",
       "                  1                 53\n",
       "January           0              31719\n",
       "                  1                 64\n",
       "November          0              12458\n",
       "                  1                 14\n",
       "Name: TransactionId, dtype: int64"
      ]
     },
     "execution_count": 25,
     "metadata": {},
     "output_type": "execute_result"
    }
   ],
   "source": [
    "#compare fraud results by Month\n",
    "#fig,ax = plt.subplots(figsize=(10,6))\n",
    "training_data.groupby(['TransactionMonth','FraudResult']).count()['TransactionId']#.unstack().plot.bar(ax=ax)"
   ]
  },
  {
   "cell_type": "code",
   "execution_count": 26,
   "metadata": {},
   "outputs": [
    {
     "data": {
      "text/plain": [
       "TransactionYear  FraudResult\n",
       "2018             0              48031\n",
       "                 1                 76\n",
       "2019             0              47438\n",
       "                 1                117\n",
       "Name: TransactionId, dtype: int64"
      ]
     },
     "execution_count": 26,
     "metadata": {},
     "output_type": "execute_result"
    }
   ],
   "source": [
    "#Fraud results per Year:\n",
    "training_data.groupby(['TransactionYear','FraudResult']).count()['TransactionId']"
   ]
  },
  {
   "cell_type": "code",
   "execution_count": 28,
   "metadata": {
    "scrolled": false
   },
   "outputs": [
    {
     "data": {
      "text/plain": [
       "DayofWeek  FraudResult\n",
       "Weekday    0              85798\n",
       "           1                178\n",
       "Weekend    0               9671\n",
       "           1                 15\n",
       "Name: TransactionId, dtype: int64"
      ]
     },
     "execution_count": 28,
     "metadata": {},
     "output_type": "execute_result"
    }
   ],
   "source": [
    "#Fraud Results by day of the week\n",
    "training_data.groupby(['DayofWeek','FraudResult']).count()['TransactionId']"
   ]
  },
  {
   "cell_type": "code",
   "execution_count": 129,
   "metadata": {},
   "outputs": [
    {
     "data": {
      "text/plain": [
       "TransactionDay  FraudResult\n",
       "Friday          0              27686\n",
       "                1                 30\n",
       "Monday          0              11808\n",
       "                1                 29\n",
       "Saturday        0              10078\n",
       "                1                 25\n",
       "Sunday          0               9671\n",
       "                1                 15\n",
       "Thursday        0              11005\n",
       "                1                 34\n",
       "Tuesday         0              15018\n",
       "                1                 31\n",
       "Wednesday       0              10203\n",
       "                1                 29\n",
       "Name: ProviderId, dtype: int64"
      ]
     },
     "execution_count": 129,
     "metadata": {},
     "output_type": "execute_result"
    }
   ],
   "source": [
    "#Which day of the week had highest fraud transactions?\n",
    "training_data.groupby(['TransactionDay','FraudResult']).count()['ProviderId']"
   ]
  },
  {
   "cell_type": "markdown",
   "metadata": {},
   "source": [
    "<h6>8. Fraudulent Transactions by Channel Number</h6>\n",
    "<p>Channel 3 had the highest fraudulent cases. Channel 1 had highest % of fraudulent transactions (0.75%.<br> Channel 5 didn't have any Fraudulent Transactions</p>"
   ]
  },
  {
   "cell_type": "code",
   "execution_count": 29,
   "metadata": {},
   "outputs": [
    {
     "data": {
      "text/plain": [
       "ChannelId    FraudResult\n",
       "ChannelId_1  0                534\n",
       "             1                  4\n",
       "ChannelId_2  0              37136\n",
       "             1                  5\n",
       "ChannelId_3  0              56751\n",
       "             1                184\n",
       "ChannelId_5  0               1048\n",
       "Name: TransactionId, dtype: int64"
      ]
     },
     "execution_count": 29,
     "metadata": {},
     "output_type": "execute_result"
    }
   ],
   "source": [
    "#Try subscription/customer,channels fraud instances\n",
    "training_data.groupby(['ChannelId','FraudResult']).count()['TransactionId']"
   ]
  },
  {
   "cell_type": "code",
   "execution_count": 30,
   "metadata": {},
   "outputs": [
    {
     "data": {
      "text/html": [
       "<div>\n",
       "<style scoped>\n",
       "    .dataframe tbody tr th:only-of-type {\n",
       "        vertical-align: middle;\n",
       "    }\n",
       "\n",
       "    .dataframe tbody tr th {\n",
       "        vertical-align: top;\n",
       "    }\n",
       "\n",
       "    .dataframe thead th {\n",
       "        text-align: right;\n",
       "    }\n",
       "</style>\n",
       "<table border=\"1\" class=\"dataframe\">\n",
       "  <thead>\n",
       "    <tr style=\"text-align: right;\">\n",
       "      <th></th>\n",
       "      <th>CountryCode</th>\n",
       "      <th>Amount</th>\n",
       "      <th>Value</th>\n",
       "      <th>PricingStrategy</th>\n",
       "      <th>FraudResult</th>\n",
       "      <th>TransactionYear</th>\n",
       "      <th>TransactionDayNum</th>\n",
       "      <th>TransactionHour</th>\n",
       "    </tr>\n",
       "  </thead>\n",
       "  <tbody>\n",
       "    <tr>\n",
       "      <th>count</th>\n",
       "      <td>95662.0</td>\n",
       "      <td>9.566200e+04</td>\n",
       "      <td>9.566200e+04</td>\n",
       "      <td>95662.000000</td>\n",
       "      <td>95662.000000</td>\n",
       "      <td>95662.000000</td>\n",
       "      <td>95662.000000</td>\n",
       "      <td>95662.000000</td>\n",
       "    </tr>\n",
       "    <tr>\n",
       "      <th>mean</th>\n",
       "      <td>256.0</td>\n",
       "      <td>6.717846e+03</td>\n",
       "      <td>9.900584e+03</td>\n",
       "      <td>2.255974</td>\n",
       "      <td>0.002018</td>\n",
       "      <td>2018.497115</td>\n",
       "      <td>3.011907</td>\n",
       "      <td>12.447722</td>\n",
       "    </tr>\n",
       "    <tr>\n",
       "      <th>std</th>\n",
       "      <td>0.0</td>\n",
       "      <td>1.233068e+05</td>\n",
       "      <td>1.231221e+05</td>\n",
       "      <td>0.732924</td>\n",
       "      <td>0.044872</td>\n",
       "      <td>0.499994</td>\n",
       "      <td>1.863651</td>\n",
       "      <td>4.846964</td>\n",
       "    </tr>\n",
       "    <tr>\n",
       "      <th>min</th>\n",
       "      <td>256.0</td>\n",
       "      <td>-1.000000e+06</td>\n",
       "      <td>2.000000e+00</td>\n",
       "      <td>0.000000</td>\n",
       "      <td>0.000000</td>\n",
       "      <td>2018.000000</td>\n",
       "      <td>0.000000</td>\n",
       "      <td>0.000000</td>\n",
       "    </tr>\n",
       "    <tr>\n",
       "      <th>25%</th>\n",
       "      <td>256.0</td>\n",
       "      <td>-5.000000e+01</td>\n",
       "      <td>2.750000e+02</td>\n",
       "      <td>2.000000</td>\n",
       "      <td>0.000000</td>\n",
       "      <td>2018.000000</td>\n",
       "      <td>1.000000</td>\n",
       "      <td>8.000000</td>\n",
       "    </tr>\n",
       "    <tr>\n",
       "      <th>50%</th>\n",
       "      <td>256.0</td>\n",
       "      <td>1.000000e+03</td>\n",
       "      <td>1.000000e+03</td>\n",
       "      <td>2.000000</td>\n",
       "      <td>0.000000</td>\n",
       "      <td>2018.000000</td>\n",
       "      <td>3.000000</td>\n",
       "      <td>13.000000</td>\n",
       "    </tr>\n",
       "    <tr>\n",
       "      <th>75%</th>\n",
       "      <td>256.0</td>\n",
       "      <td>2.800000e+03</td>\n",
       "      <td>5.000000e+03</td>\n",
       "      <td>2.000000</td>\n",
       "      <td>0.000000</td>\n",
       "      <td>2019.000000</td>\n",
       "      <td>4.000000</td>\n",
       "      <td>17.000000</td>\n",
       "    </tr>\n",
       "    <tr>\n",
       "      <th>max</th>\n",
       "      <td>256.0</td>\n",
       "      <td>9.880000e+06</td>\n",
       "      <td>9.880000e+06</td>\n",
       "      <td>4.000000</td>\n",
       "      <td>1.000000</td>\n",
       "      <td>2019.000000</td>\n",
       "      <td>6.000000</td>\n",
       "      <td>23.000000</td>\n",
       "    </tr>\n",
       "  </tbody>\n",
       "</table>\n",
       "</div>"
      ],
      "text/plain": [
       "       CountryCode        Amount         Value  PricingStrategy   FraudResult  \\\n",
       "count      95662.0  9.566200e+04  9.566200e+04     95662.000000  95662.000000   \n",
       "mean         256.0  6.717846e+03  9.900584e+03         2.255974      0.002018   \n",
       "std            0.0  1.233068e+05  1.231221e+05         0.732924      0.044872   \n",
       "min          256.0 -1.000000e+06  2.000000e+00         0.000000      0.000000   \n",
       "25%          256.0 -5.000000e+01  2.750000e+02         2.000000      0.000000   \n",
       "50%          256.0  1.000000e+03  1.000000e+03         2.000000      0.000000   \n",
       "75%          256.0  2.800000e+03  5.000000e+03         2.000000      0.000000   \n",
       "max          256.0  9.880000e+06  9.880000e+06         4.000000      1.000000   \n",
       "\n",
       "       TransactionYear  TransactionDayNum  TransactionHour  \n",
       "count     95662.000000       95662.000000     95662.000000  \n",
       "mean       2018.497115           3.011907        12.447722  \n",
       "std           0.499994           1.863651         4.846964  \n",
       "min        2018.000000           0.000000         0.000000  \n",
       "25%        2018.000000           1.000000         8.000000  \n",
       "50%        2018.000000           3.000000        13.000000  \n",
       "75%        2019.000000           4.000000        17.000000  \n",
       "max        2019.000000           6.000000        23.000000  "
      ]
     },
     "execution_count": 30,
     "metadata": {},
     "output_type": "execute_result"
    }
   ],
   "source": [
    "#transaction summary : quick stats on numerical data\n",
    "training_data.describe()"
   ]
  },
  {
   "cell_type": "code",
   "execution_count": 31,
   "metadata": {},
   "outputs": [
    {
     "data": {
      "text/plain": [
       "<matplotlib.axes._subplots.AxesSubplot at 0x1c205ebb38>"
      ]
     },
     "execution_count": 31,
     "metadata": {},
     "output_type": "execute_result"
    },
    {
     "data": {
      "image/png": "[encoded data removed]",
      "text/plain": [
       "<Figure size 1008x720 with 1 Axes>"
      ]
     },
     "metadata": {
      "needs_background": "light"
     },
     "output_type": "display_data"
    }
   ],
   "source": [
    "#plot the distribution of transaction Value\n",
    "training_data['Value'].plot(figsize=(14,10))"
   ]
  },
  {
   "cell_type": "code",
   "execution_count": 32,
   "metadata": {},
   "outputs": [
    {
     "data": {
      "text/plain": [
       "<matplotlib.collections.PathCollection at 0x1c208194e0>"
      ]
     },
     "execution_count": 32,
     "metadata": {},
     "output_type": "execute_result"
    },
    {
     "data": {
      "image/png": "[encoded data removed]",
      "text/plain": [
       "<Figure size 432x288 with 1 Axes>"
      ]
     },
     "metadata": {
      "needs_background": "light"
     },
     "output_type": "display_data"
    }
   ],
   "source": [
    "#plot the distribution of transaction Value &\n",
    "#whether the transaction is fraudulent or not\n",
    "plt.scatter(training_data.Value,training_data.FraudResult,marker=\"+\",color=\"red\")"
   ]
  },
  {
   "cell_type": "markdown",
   "metadata": {},
   "source": [
    "From plot above, we can see that there is no clear distiction between fraudulent & non-fraudulent transactions\n",
    "for amounts that are less than 400,000. Higher transaction Values are more likely to be fraudulent."
   ]
  },
  {
   "cell_type": "markdown",
   "metadata": {},
   "source": [
    "<h5>Data Modeling</h5>\n",
    "<h6>Prepare the data for model prediction</h6>\n",
    "<p>Here we create dummy data for modeling</p>"
   ]
  },
  {
   "cell_type": "code",
   "execution_count": 179,
   "metadata": {},
   "outputs": [],
   "source": [
    "#Drop some columns\n",
    "training_data_new = training_data.drop(\n",
    "    ['TransactionId','BatchId','ProductId',\n",
    "     'AccountId','SubscriptionId',\n",
    "     'CustomerId','CurrencyCode',\n",
    "     'ProductCategory','DayofWeek',\n",
    "     'CountryCode','TransactionDayNum',\n",
    "     'Amount','TransactionStartTime'],axis=1)\n"
   ]
  },
  {
   "cell_type": "code",
   "execution_count": 172,
   "metadata": {},
   "outputs": [
    {
     "data": {
      "text/html": [
       "<div>\n",
       "<style scoped>\n",
       "    .dataframe tbody tr th:only-of-type {\n",
       "        vertical-align: middle;\n",
       "    }\n",
       "\n",
       "    .dataframe tbody tr th {\n",
       "        vertical-align: top;\n",
       "    }\n",
       "\n",
       "    .dataframe thead th {\n",
       "        text-align: right;\n",
       "    }\n",
       "</style>\n",
       "<table border=\"1\" class=\"dataframe\">\n",
       "  <thead>\n",
       "    <tr style=\"text-align: right;\">\n",
       "      <th></th>\n",
       "      <th>ProviderId</th>\n",
       "      <th>ChannelId</th>\n",
       "      <th>Value</th>\n",
       "      <th>PricingStrategy</th>\n",
       "      <th>FraudResult</th>\n",
       "      <th>TransactionYear</th>\n",
       "      <th>TransactionMonth</th>\n",
       "      <th>TransactionDay</th>\n",
       "      <th>TransactionHour</th>\n",
       "      <th>TimeofDay</th>\n",
       "    </tr>\n",
       "  </thead>\n",
       "  <tbody>\n",
       "    <tr>\n",
       "      <th>0</th>\n",
       "      <td>ProviderId_6</td>\n",
       "      <td>ChannelId_3</td>\n",
       "      <td>1000</td>\n",
       "      <td>2</td>\n",
       "      <td>0</td>\n",
       "      <td>2018</td>\n",
       "      <td>November</td>\n",
       "      <td>Thursday</td>\n",
       "      <td>2</td>\n",
       "      <td>Night</td>\n",
       "    </tr>\n",
       "    <tr>\n",
       "      <th>1</th>\n",
       "      <td>ProviderId_4</td>\n",
       "      <td>ChannelId_2</td>\n",
       "      <td>20</td>\n",
       "      <td>2</td>\n",
       "      <td>0</td>\n",
       "      <td>2018</td>\n",
       "      <td>November</td>\n",
       "      <td>Thursday</td>\n",
       "      <td>2</td>\n",
       "      <td>Night</td>\n",
       "    </tr>\n",
       "    <tr>\n",
       "      <th>2</th>\n",
       "      <td>ProviderId_6</td>\n",
       "      <td>ChannelId_3</td>\n",
       "      <td>500</td>\n",
       "      <td>2</td>\n",
       "      <td>0</td>\n",
       "      <td>2018</td>\n",
       "      <td>November</td>\n",
       "      <td>Thursday</td>\n",
       "      <td>2</td>\n",
       "      <td>Night</td>\n",
       "    </tr>\n",
       "    <tr>\n",
       "      <th>3</th>\n",
       "      <td>ProviderId_1</td>\n",
       "      <td>ChannelId_3</td>\n",
       "      <td>21800</td>\n",
       "      <td>2</td>\n",
       "      <td>0</td>\n",
       "      <td>2018</td>\n",
       "      <td>November</td>\n",
       "      <td>Thursday</td>\n",
       "      <td>3</td>\n",
       "      <td>Night</td>\n",
       "    </tr>\n",
       "    <tr>\n",
       "      <th>4</th>\n",
       "      <td>ProviderId_4</td>\n",
       "      <td>ChannelId_2</td>\n",
       "      <td>644</td>\n",
       "      <td>2</td>\n",
       "      <td>0</td>\n",
       "      <td>2018</td>\n",
       "      <td>November</td>\n",
       "      <td>Thursday</td>\n",
       "      <td>3</td>\n",
       "      <td>Night</td>\n",
       "    </tr>\n",
       "  </tbody>\n",
       "</table>\n",
       "</div>"
      ],
      "text/plain": [
       "     ProviderId    ChannelId  Value PricingStrategy  FraudResult  \\\n",
       "0  ProviderId_6  ChannelId_3   1000               2            0   \n",
       "1  ProviderId_4  ChannelId_2     20               2            0   \n",
       "2  ProviderId_6  ChannelId_3    500               2            0   \n",
       "3  ProviderId_1  ChannelId_3  21800               2            0   \n",
       "4  ProviderId_4  ChannelId_2    644               2            0   \n",
       "\n",
       "  TransactionYear TransactionMonth TransactionDay  TransactionHour TimeofDay  \n",
       "0            2018         November       Thursday                2     Night  \n",
       "1            2018         November       Thursday                2     Night  \n",
       "2            2018         November       Thursday                2     Night  \n",
       "3            2018         November       Thursday                3     Night  \n",
       "4            2018         November       Thursday                3     Night  "
      ]
     },
     "execution_count": 172,
     "metadata": {},
     "output_type": "execute_result"
    }
   ],
   "source": [
    "training_data_new.head()"
   ]
  },
  {
   "cell_type": "code",
   "execution_count": 180,
   "metadata": {},
   "outputs": [
    {
     "name": "stderr",
     "output_type": "stream",
     "text": [
      "/anaconda3/lib/python3.7/site-packages/ipykernel_launcher.py:16: FutureWarning: elementwise comparison failed; returning scalar instead, but in the future will perform elementwise comparison\n",
      "  app.launch_new_instance()\n"
     ]
    }
   ],
   "source": [
    "#Create dummy data for logistic modelling\n",
    "#convert Pricing Strategy & Transaction Year into string\n",
    "training_data_new[['PricingStrategy','TransactionYear']]=training_data_new[['PricingStrategy','TransactionYear']].astype(str)\n",
    "\n",
    "cat_vars = training_data_new[['ProviderId','PricingStrategy',\n",
    "                              'TransactionYear',\n",
    "                              'TransactionMonth','ChannelId',\n",
    "                              'TransactionDay','TimeofDay']]\n",
    "cat_list = pd.get_dummies(cat_vars, drop_first=True)\n",
    "\n",
    "training_data_final = training_data_new.join(cat_list)\n",
    "data_vars = training_data_final.columns.tolist()\n",
    "to_keep = [i for i in data_vars if i not in cat_vars]\n",
    "\n",
    "y = np.ravel(training_data_final[['FraudResult']])\n",
    "X = training_data_final[[i for i in to_keep if i not in y]]\n",
    "#X = X.iloc[:,6:-1]"
   ]
  },
  {
   "cell_type": "code",
   "execution_count": 185,
   "metadata": {
    "scrolled": false
   },
   "outputs": [
    {
     "data": {
      "text/plain": [
       "Index(['Value', 'FraudResult', 'TransactionHour', 'ProviderId_ProviderId_2',\n",
       "       'ProviderId_ProviderId_3', 'ProviderId_ProviderId_4',\n",
       "       'ProviderId_ProviderId_5', 'ProviderId_ProviderId_6',\n",
       "       'PricingStrategy_1', 'PricingStrategy_2', 'PricingStrategy_4',\n",
       "       'TransactionYear_2019', 'TransactionMonth_February',\n",
       "       'TransactionMonth_January', 'TransactionMonth_November',\n",
       "       'ChannelId_ChannelId_2', 'ChannelId_ChannelId_3',\n",
       "       'ChannelId_ChannelId_5', 'TransactionDay_Monday',\n",
       "       'TransactionDay_Saturday', 'TransactionDay_Sunday',\n",
       "       'TransactionDay_Thursday', 'TransactionDay_Tuesday',\n",
       "       'TransactionDay_Wednesday', 'TimeofDay_Morning', 'TimeofDay_Night'],\n",
       "      dtype='object')"
      ]
     },
     "execution_count": 185,
     "metadata": {},
     "output_type": "execute_result"
    }
   ],
   "source": [
    "X.columns"
   ]
  },
  {
   "cell_type": "code",
   "execution_count": 186,
   "metadata": {
    "scrolled": true
   },
   "outputs": [
    {
     "name": "stdout",
     "output_type": "stream",
     "text": [
      "length of oversampled data is  133638\n",
      "Number of no FraudResult in oversampled data 66819\n",
      "Number of FraudResult 66819\n",
      "Proportion of no FraudResult data in oversampled data is  0.5\n",
      "Proportion of FraudResult data in oversampled data is  0.5\n"
     ]
    }
   ],
   "source": [
    "#Over sample the data in order to have balanced data\n",
    "os = SMOTE(random_state=0)\n",
    "X_train, X_test, y_train, y_test = train_test_split(X, y, test_size=0.3, random_state=0)\n",
    "columns = X_train.columns\n",
    "os_data_X,os_data_y=os.fit_sample(X_train, y_train)\n",
    "os_data_X = pd.DataFrame(data=os_data_X,columns=columns )\n",
    "os_data_y= pd.DataFrame(data=os_data_y,columns=['FraudResult'])\n",
    "\n",
    "# Check the numbers in the dataset\n",
    "print(\"length of oversampled data is \",len(os_data_X))\n",
    "print(\"Number of no FraudResult in oversampled data\",len(os_data_y[os_data_y['FraudResult']==0]))\n",
    "print(\"Number of FraudResult\",len(os_data_y[os_data_y['FraudResult']==1]))\n",
    "print(\"Proportion of no FraudResult data in oversampled data is \",len(os_data_y[os_data_y['FraudResult']==0])/len(os_data_X))\n",
    "print(\"Proportion of FraudResult data in oversampled data is \",len(os_data_y[os_data_y['FraudResult']==1])/len(os_data_X))"
   ]
  },
  {
   "cell_type": "markdown",
   "metadata": {},
   "source": [
    "Recursive Feature Elimination (RFE)"
   ]
  },
  {
   "cell_type": "code",
   "execution_count": 187,
   "metadata": {
    "scrolled": false
   },
   "outputs": [
    {
     "name": "stdout",
     "output_type": "stream",
     "text": [
      "[ True  True  True  True  True  True  True  True  True  True  True  True\n",
      "  True  True  True  True  True  True  True  True  True  True  True  True\n",
      "  True  True]\n",
      "[1 1 1 1 1 1 1 1 1 1 1 1 1 1 1 1 1 1 1 1 1 1 1 1 1 1]\n"
     ]
    }
   ],
   "source": [
    "#select features recursively\n",
    "model = LogisticRegression(solver='lbfgs')\n",
    "rfe = RFE(model, 55)\n",
    "rfe = rfe.fit(os_data_X,os_data_y.values.ravel())\n",
    "print(rfe.support_)\n",
    "print(rfe.ranking_)"
   ]
  },
  {
   "cell_type": "code",
   "execution_count": 205,
   "metadata": {
    "scrolled": false
   },
   "outputs": [
    {
     "data": {
      "text/plain": [
       "<matplotlib.axes._subplots.AxesSubplot at 0x1c32853dd8>"
      ]
     },
     "execution_count": 205,
     "metadata": {},
     "output_type": "execute_result"
    },
    {
     "data": {
      "image/png": "[encoded data removed]",
      "text/plain": [
       "<Figure size 864x864 with 2 Axes>"
      ]
     },
     "metadata": {
      "needs_background": "light"
     },
     "output_type": "display_data"
    }
   ],
   "source": [
    "#check correlation between features\n",
    "corr_data = training_data_final\n",
    "corr=corr_data.corr()\n",
    "fig, ax = plt.subplots(figsize=(12, 12))\n",
    "colormap = sns.diverging_palette(240, 20, as_cmap=True)\n",
    "sns.heatmap(corr, cmap=colormap, annot=False, fmt=\".2f\")\n",
    "\n",
    "#check top correlation pairs\n",
    "#corr1=corr.abs().unstack().sort_values(ascending=False)\n",
    "#corr1[0:10]"
   ]
  },
  {
   "cell_type": "code",
   "execution_count": 191,
   "metadata": {},
   "outputs": [],
   "source": [
    "#cols = ['Value', 'PricingStrategy',\n",
    "#       'TransactionDayNum', 'TransactionHour',\n",
    "#       'ProviderId_ProviderId_5', 'ProviderId_ProviderId_6',\n",
    "#       'ProductId_ProductId_10', 'ProductId_ProductId_3',\n",
    "#       'ProductId_ProductId_4', 'ProductId_ProductId_5',\n",
    "#       'ProductCategory_data_bundles', 'ProductCategory_financial_services',\n",
    "#       'ProductCategory_movies', 'ProductCategory_other',\n",
    "#       'ProductCategory_ticket', 'ProductCategory_transport',\n",
    "#       'ProductCategory_tv', 'ProductCategory_utility_bill',\n",
    "#       'ChannelId_ChannelId_2', 'ChannelId_ChannelId_3',\n",
    "#       'DayofWeek_Weekend', 'TransactionDay_Monday', 'TransactionDay_Saturday',\n",
    "#       'TransactionDay_Sunday', 'TransactionDay_Thursday',\n",
    "#       'TransactionDay_Tuesday', 'TransactionDay_Wednesday',\n",
    "#       'TimeofDay_Morning']\n",
    "\n",
    "#update X, Y based on this result\n",
    "X = os_data_X\n",
    "y = os_data_y['FraudResult']"
   ]
  },
  {
   "cell_type": "code",
   "execution_count": 195,
   "metadata": {},
   "outputs": [
    {
     "data": {
      "text/plain": [
       "Index(['Value', 'FraudResult', 'TransactionHour', 'ProviderId_ProviderId_2',\n",
       "       'ProviderId_ProviderId_3', 'ProviderId_ProviderId_4',\n",
       "       'ProviderId_ProviderId_5', 'ProviderId_ProviderId_6',\n",
       "       'PricingStrategy_1', 'PricingStrategy_2', 'PricingStrategy_4',\n",
       "       'TransactionYear_2019', 'TransactionMonth_February',\n",
       "       'TransactionMonth_January', 'TransactionMonth_November',\n",
       "       'ChannelId_ChannelId_2', 'ChannelId_ChannelId_3',\n",
       "       'ChannelId_ChannelId_5', 'TransactionDay_Monday',\n",
       "       'TransactionDay_Saturday', 'TransactionDay_Sunday',\n",
       "       'TransactionDay_Thursday', 'TransactionDay_Tuesday',\n",
       "       'TransactionDay_Wednesday', 'TimeofDay_Morning', 'TimeofDay_Night'],\n",
       "      dtype='object')"
      ]
     },
     "execution_count": 195,
     "metadata": {},
     "output_type": "execute_result"
    }
   ],
   "source": [
    "os_data_X.columns"
   ]
  },
  {
   "cell_type": "code",
   "execution_count": 192,
   "metadata": {},
   "outputs": [
    {
     "name": "stderr",
     "output_type": "stream",
     "text": [
      "/anaconda3/lib/python3.7/site-packages/statsmodels/discrete/discrete_model.py:1724: RuntimeWarning: divide by zero encountered in log\n",
      "  return np.sum(np.log(self.cdf(q*np.dot(X,params))))\n"
     ]
    },
    {
     "name": "stdout",
     "output_type": "stream",
     "text": [
      "Warning: Maximum number of iterations has been exceeded.\n",
      "         Current function value: inf\n",
      "         Iterations: 35\n"
     ]
    },
    {
     "ename": "LinAlgError",
     "evalue": "Singular matrix",
     "output_type": "error",
     "traceback": [
      "\u001b[0;31m---------------------------------------------------------------------------\u001b[0m",
      "\u001b[0;31mLinAlgError\u001b[0m                               Traceback (most recent call last)",
      "\u001b[0;32m<ipython-input-192-dd20c83fb9a8>\u001b[0m in \u001b[0;36m<module>\u001b[0;34m\u001b[0m\n\u001b[1;32m      1\u001b[0m \u001b[0;31m#Model implementation\u001b[0m\u001b[0;34m\u001b[0m\u001b[0;34m\u001b[0m\u001b[0;34m\u001b[0m\u001b[0m\n\u001b[1;32m      2\u001b[0m \u001b[0mlogit_model\u001b[0m \u001b[0;34m=\u001b[0m \u001b[0msm\u001b[0m\u001b[0;34m.\u001b[0m\u001b[0mLogit\u001b[0m\u001b[0;34m(\u001b[0m\u001b[0my\u001b[0m\u001b[0;34m,\u001b[0m\u001b[0mX\u001b[0m\u001b[0;34m)\u001b[0m\u001b[0;34m\u001b[0m\u001b[0;34m\u001b[0m\u001b[0m\n\u001b[0;32m----> 3\u001b[0;31m \u001b[0mresult\u001b[0m \u001b[0;34m=\u001b[0m \u001b[0mlogit_model\u001b[0m\u001b[0;34m.\u001b[0m\u001b[0mfit\u001b[0m\u001b[0;34m(\u001b[0m\u001b[0;34m)\u001b[0m\u001b[0;34m\u001b[0m\u001b[0;34m\u001b[0m\u001b[0m\n\u001b[0m\u001b[1;32m      4\u001b[0m \u001b[0mprint\u001b[0m\u001b[0;34m(\u001b[0m\u001b[0mresult\u001b[0m\u001b[0;34m.\u001b[0m\u001b[0msummary2\u001b[0m\u001b[0;34m(\u001b[0m\u001b[0;34m)\u001b[0m\u001b[0;34m)\u001b[0m\u001b[0;34m\u001b[0m\u001b[0;34m\u001b[0m\u001b[0m\n",
      "\u001b[0;32m/anaconda3/lib/python3.7/site-packages/statsmodels/discrete/discrete_model.py\u001b[0m in \u001b[0;36mfit\u001b[0;34m(self, start_params, method, maxiter, full_output, disp, callback, **kwargs)\u001b[0m\n\u001b[1;32m   1832\u001b[0m         bnryfit = super(Logit, self).fit(start_params=start_params,\n\u001b[1;32m   1833\u001b[0m                 \u001b[0mmethod\u001b[0m\u001b[0;34m=\u001b[0m\u001b[0mmethod\u001b[0m\u001b[0;34m,\u001b[0m \u001b[0mmaxiter\u001b[0m\u001b[0;34m=\u001b[0m\u001b[0mmaxiter\u001b[0m\u001b[0;34m,\u001b[0m \u001b[0mfull_output\u001b[0m\u001b[0;34m=\u001b[0m\u001b[0mfull_output\u001b[0m\u001b[0;34m,\u001b[0m\u001b[0;34m\u001b[0m\u001b[0;34m\u001b[0m\u001b[0m\n\u001b[0;32m-> 1834\u001b[0;31m                 disp=disp, callback=callback, **kwargs)\n\u001b[0m\u001b[1;32m   1835\u001b[0m \u001b[0;34m\u001b[0m\u001b[0m\n\u001b[1;32m   1836\u001b[0m         \u001b[0mdiscretefit\u001b[0m \u001b[0;34m=\u001b[0m \u001b[0mLogitResults\u001b[0m\u001b[0;34m(\u001b[0m\u001b[0mself\u001b[0m\u001b[0;34m,\u001b[0m \u001b[0mbnryfit\u001b[0m\u001b[0;34m)\u001b[0m\u001b[0;34m\u001b[0m\u001b[0;34m\u001b[0m\u001b[0m\n",
      "\u001b[0;32m/anaconda3/lib/python3.7/site-packages/statsmodels/discrete/discrete_model.py\u001b[0m in \u001b[0;36mfit\u001b[0;34m(self, start_params, method, maxiter, full_output, disp, callback, **kwargs)\u001b[0m\n\u001b[1;32m    218\u001b[0m         mlefit = super(DiscreteModel, self).fit(start_params=start_params,\n\u001b[1;32m    219\u001b[0m                 \u001b[0mmethod\u001b[0m\u001b[0;34m=\u001b[0m\u001b[0mmethod\u001b[0m\u001b[0;34m,\u001b[0m \u001b[0mmaxiter\u001b[0m\u001b[0;34m=\u001b[0m\u001b[0mmaxiter\u001b[0m\u001b[0;34m,\u001b[0m \u001b[0mfull_output\u001b[0m\u001b[0;34m=\u001b[0m\u001b[0mfull_output\u001b[0m\u001b[0;34m,\u001b[0m\u001b[0;34m\u001b[0m\u001b[0;34m\u001b[0m\u001b[0m\n\u001b[0;32m--> 220\u001b[0;31m                 disp=disp, callback=callback, **kwargs)\n\u001b[0m\u001b[1;32m    221\u001b[0m \u001b[0;34m\u001b[0m\u001b[0m\n\u001b[1;32m    222\u001b[0m         \u001b[0;32mreturn\u001b[0m \u001b[0mmlefit\u001b[0m \u001b[0;31m# up to subclasses to wrap results\u001b[0m\u001b[0;34m\u001b[0m\u001b[0;34m\u001b[0m\u001b[0m\n",
      "\u001b[0;32m/anaconda3/lib/python3.7/site-packages/statsmodels/base/model.py\u001b[0m in \u001b[0;36mfit\u001b[0;34m(self, start_params, method, maxiter, full_output, disp, fargs, callback, retall, skip_hessian, **kwargs)\u001b[0m\n\u001b[1;32m    471\u001b[0m             \u001b[0mHinv\u001b[0m \u001b[0;34m=\u001b[0m \u001b[0mcov_params_func\u001b[0m\u001b[0;34m(\u001b[0m\u001b[0mself\u001b[0m\u001b[0;34m,\u001b[0m \u001b[0mxopt\u001b[0m\u001b[0;34m,\u001b[0m \u001b[0mretvals\u001b[0m\u001b[0;34m)\u001b[0m\u001b[0;34m\u001b[0m\u001b[0;34m\u001b[0m\u001b[0m\n\u001b[1;32m    472\u001b[0m         \u001b[0;32melif\u001b[0m \u001b[0mmethod\u001b[0m \u001b[0;34m==\u001b[0m \u001b[0;34m'newton'\u001b[0m \u001b[0;32mand\u001b[0m \u001b[0mfull_output\u001b[0m\u001b[0;34m:\u001b[0m\u001b[0;34m\u001b[0m\u001b[0;34m\u001b[0m\u001b[0m\n\u001b[0;32m--> 473\u001b[0;31m             \u001b[0mHinv\u001b[0m \u001b[0;34m=\u001b[0m \u001b[0mnp\u001b[0m\u001b[0;34m.\u001b[0m\u001b[0mlinalg\u001b[0m\u001b[0;34m.\u001b[0m\u001b[0minv\u001b[0m\u001b[0;34m(\u001b[0m\u001b[0;34m-\u001b[0m\u001b[0mretvals\u001b[0m\u001b[0;34m[\u001b[0m\u001b[0;34m'Hessian'\u001b[0m\u001b[0;34m]\u001b[0m\u001b[0;34m)\u001b[0m \u001b[0;34m/\u001b[0m \u001b[0mnobs\u001b[0m\u001b[0;34m\u001b[0m\u001b[0;34m\u001b[0m\u001b[0m\n\u001b[0m\u001b[1;32m    474\u001b[0m         \u001b[0;32melif\u001b[0m \u001b[0;32mnot\u001b[0m \u001b[0mskip_hessian\u001b[0m\u001b[0;34m:\u001b[0m\u001b[0;34m\u001b[0m\u001b[0;34m\u001b[0m\u001b[0m\n\u001b[1;32m    475\u001b[0m             \u001b[0mH\u001b[0m \u001b[0;34m=\u001b[0m \u001b[0;34m-\u001b[0m\u001b[0;36m1\u001b[0m \u001b[0;34m*\u001b[0m \u001b[0mself\u001b[0m\u001b[0;34m.\u001b[0m\u001b[0mhessian\u001b[0m\u001b[0;34m(\u001b[0m\u001b[0mxopt\u001b[0m\u001b[0;34m)\u001b[0m\u001b[0;34m\u001b[0m\u001b[0;34m\u001b[0m\u001b[0m\n",
      "\u001b[0;32m/anaconda3/lib/python3.7/site-packages/numpy/linalg/linalg.py\u001b[0m in \u001b[0;36minv\u001b[0;34m(a)\u001b[0m\n\u001b[1;32m    530\u001b[0m     \u001b[0msignature\u001b[0m \u001b[0;34m=\u001b[0m \u001b[0;34m'D->D'\u001b[0m \u001b[0;32mif\u001b[0m \u001b[0misComplexType\u001b[0m\u001b[0;34m(\u001b[0m\u001b[0mt\u001b[0m\u001b[0;34m)\u001b[0m \u001b[0;32melse\u001b[0m \u001b[0;34m'd->d'\u001b[0m\u001b[0;34m\u001b[0m\u001b[0;34m\u001b[0m\u001b[0m\n\u001b[1;32m    531\u001b[0m     \u001b[0mextobj\u001b[0m \u001b[0;34m=\u001b[0m \u001b[0mget_linalg_error_extobj\u001b[0m\u001b[0;34m(\u001b[0m\u001b[0m_raise_linalgerror_singular\u001b[0m\u001b[0;34m)\u001b[0m\u001b[0;34m\u001b[0m\u001b[0;34m\u001b[0m\u001b[0m\n\u001b[0;32m--> 532\u001b[0;31m     \u001b[0mainv\u001b[0m \u001b[0;34m=\u001b[0m \u001b[0m_umath_linalg\u001b[0m\u001b[0;34m.\u001b[0m\u001b[0minv\u001b[0m\u001b[0;34m(\u001b[0m\u001b[0ma\u001b[0m\u001b[0;34m,\u001b[0m \u001b[0msignature\u001b[0m\u001b[0;34m=\u001b[0m\u001b[0msignature\u001b[0m\u001b[0;34m,\u001b[0m \u001b[0mextobj\u001b[0m\u001b[0;34m=\u001b[0m\u001b[0mextobj\u001b[0m\u001b[0;34m)\u001b[0m\u001b[0;34m\u001b[0m\u001b[0;34m\u001b[0m\u001b[0m\n\u001b[0m\u001b[1;32m    533\u001b[0m     \u001b[0;32mreturn\u001b[0m \u001b[0mwrap\u001b[0m\u001b[0;34m(\u001b[0m\u001b[0mainv\u001b[0m\u001b[0;34m.\u001b[0m\u001b[0mastype\u001b[0m\u001b[0;34m(\u001b[0m\u001b[0mresult_t\u001b[0m\u001b[0;34m,\u001b[0m \u001b[0mcopy\u001b[0m\u001b[0;34m=\u001b[0m\u001b[0;32mFalse\u001b[0m\u001b[0;34m)\u001b[0m\u001b[0;34m)\u001b[0m\u001b[0;34m\u001b[0m\u001b[0;34m\u001b[0m\u001b[0m\n\u001b[1;32m    534\u001b[0m \u001b[0;34m\u001b[0m\u001b[0m\n",
      "\u001b[0;32m/anaconda3/lib/python3.7/site-packages/numpy/linalg/linalg.py\u001b[0m in \u001b[0;36m_raise_linalgerror_singular\u001b[0;34m(err, flag)\u001b[0m\n\u001b[1;32m     87\u001b[0m \u001b[0;34m\u001b[0m\u001b[0m\n\u001b[1;32m     88\u001b[0m \u001b[0;32mdef\u001b[0m \u001b[0m_raise_linalgerror_singular\u001b[0m\u001b[0;34m(\u001b[0m\u001b[0merr\u001b[0m\u001b[0;34m,\u001b[0m \u001b[0mflag\u001b[0m\u001b[0;34m)\u001b[0m\u001b[0;34m:\u001b[0m\u001b[0;34m\u001b[0m\u001b[0;34m\u001b[0m\u001b[0m\n\u001b[0;32m---> 89\u001b[0;31m     \u001b[0;32mraise\u001b[0m \u001b[0mLinAlgError\u001b[0m\u001b[0;34m(\u001b[0m\u001b[0;34m\"Singular matrix\"\u001b[0m\u001b[0;34m)\u001b[0m\u001b[0;34m\u001b[0m\u001b[0;34m\u001b[0m\u001b[0m\n\u001b[0m\u001b[1;32m     90\u001b[0m \u001b[0;34m\u001b[0m\u001b[0m\n\u001b[1;32m     91\u001b[0m \u001b[0;32mdef\u001b[0m \u001b[0m_raise_linalgerror_nonposdef\u001b[0m\u001b[0;34m(\u001b[0m\u001b[0merr\u001b[0m\u001b[0;34m,\u001b[0m \u001b[0mflag\u001b[0m\u001b[0;34m)\u001b[0m\u001b[0;34m:\u001b[0m\u001b[0;34m\u001b[0m\u001b[0;34m\u001b[0m\u001b[0m\n",
      "\u001b[0;31mLinAlgError\u001b[0m: Singular matrix"
     ]
    }
   ],
   "source": [
    "#Model implementation\n",
    "logit_model = sm.Logit(y,X)\n",
    "result = logit_model.fit()\n",
    "print(result.summary2())"
   ]
  },
  {
   "cell_type": "code",
   "execution_count": 85,
   "metadata": {},
   "outputs": [],
   "source": [
    "#split the training data into train & test data (80:20 split used)\n",
    "#Get a dataframe of the features to use\n",
    "Amount = pd.DataFrame(training_data.Amount)\n",
    "FraudResult = pd.DataFrame(training_data.FraudResult)\n",
    "\n",
    "#X_train to train the model & X_test to test the model\n",
    "X_train,X_test,y_train,y_test=train_test_split(Amount,FraudResult,test_size=0.2,random_state=42)\n"
   ]
  },
  {
   "cell_type": "code",
   "execution_count": 210,
   "metadata": {},
   "outputs": [
    {
     "data": {
      "text/plain": [
       "Index(['CountryCode', 'Amount', 'Value', 'PricingStrategy', 'TransactionYear',\n",
       "       'TransactionDayNum', 'TransactionHour', 'ProviderId_ProviderId_2',\n",
       "       'ProviderId_ProviderId_3', 'ProviderId_ProviderId_4',\n",
       "       'ProviderId_ProviderId_5', 'ProviderId_ProviderId_6',\n",
       "       'ProductId_ProductId_10', 'ProductId_ProductId_11',\n",
       "       'ProductId_ProductId_12', 'ProductId_ProductId_13',\n",
       "       'ProductId_ProductId_14', 'ProductId_ProductId_15',\n",
       "       'ProductId_ProductId_16', 'ProductId_ProductId_19',\n",
       "       'ProductId_ProductId_2', 'ProductId_ProductId_20',\n",
       "       'ProductId_ProductId_21', 'ProductId_ProductId_22',\n",
       "       'ProductId_ProductId_23', 'ProductId_ProductId_24',\n",
       "       'ProductId_ProductId_27', 'ProductId_ProductId_3',\n",
       "       'ProductId_ProductId_4', 'ProductId_ProductId_5',\n",
       "       'ProductId_ProductId_6', 'ProductId_ProductId_7',\n",
       "       'ProductId_ProductId_8', 'ProductId_ProductId_9',\n",
       "       'ProductCategory_data_bundles', 'ProductCategory_financial_services',\n",
       "       'ProductCategory_movies', 'ProductCategory_other',\n",
       "       'ProductCategory_ticket', 'ProductCategory_transport',\n",
       "       'ProductCategory_tv', 'ProductCategory_utility_bill',\n",
       "       'ChannelId_ChannelId_2', 'ChannelId_ChannelId_3',\n",
       "       'ChannelId_ChannelId_5', 'TransactionMonth_February',\n",
       "       'TransactionMonth_January', 'TransactionMonth_November',\n",
       "       'DayofWeek_Weekend', 'TransactionDay_Monday', 'TransactionDay_Saturday',\n",
       "       'TransactionDay_Sunday', 'TransactionDay_Thursday',\n",
       "       'TransactionDay_Tuesday', 'TransactionDay_Wednesday',\n",
       "       'TimeofDay_Morning'],\n",
       "      dtype='object')"
      ]
     },
     "execution_count": 210,
     "metadata": {},
     "output_type": "execute_result"
    }
   ],
   "source": [
    "os_data_X.columns"
   ]
  },
  {
   "cell_type": "code",
   "execution_count": 50,
   "metadata": {},
   "outputs": [],
   "source": [
    "#create object class of the model\n",
    "model = LogisticRegression()"
   ]
  },
  {
   "cell_type": "code",
   "execution_count": 86,
   "metadata": {},
   "outputs": [
    {
     "name": "stderr",
     "output_type": "stream",
     "text": [
      "/anaconda3/lib/python3.7/site-packages/sklearn/linear_model/logistic.py:433: FutureWarning: Default solver will be changed to 'lbfgs' in 0.22. Specify a solver to silence this warning.\n",
      "  FutureWarning)\n",
      "/anaconda3/lib/python3.7/site-packages/sklearn/utils/validation.py:761: DataConversionWarning: A column-vector y was passed when a 1d array was expected. Please change the shape of y to (n_samples, ), for example using ravel().\n",
      "  y = column_or_1d(y, warn=True)\n"
     ]
    },
    {
     "data": {
      "text/plain": [
       "LogisticRegression(C=1.0, class_weight=None, dual=False, fit_intercept=True,\n",
       "          intercept_scaling=1, max_iter=100, multi_class='warn',\n",
       "          n_jobs=None, penalty='l2', random_state=None, solver='warn',\n",
       "          tol=0.0001, verbose=0, warm_start=False)"
      ]
     },
     "execution_count": 86,
     "metadata": {},
     "output_type": "execute_result"
    }
   ],
   "source": [
    "#train the model\n",
    "#reshape the data\n",
    "#X_train = X_train.values.reshape(1,-1)\n",
    "#y_train = y_train.values.reshape(1,-1)\n",
    "model.fit(X_train,y_train)"
   ]
  },
  {
   "cell_type": "code",
   "execution_count": 90,
   "metadata": {},
   "outputs": [
    {
     "data": {
      "text/plain": [
       "array([0, 0, 0, ..., 0, 0, 0])"
      ]
     },
     "execution_count": 90,
     "metadata": {},
     "output_type": "execute_result"
    }
   ],
   "source": [
    "#predict the test\n",
    "model.predict(X_test)"
   ]
  },
  {
   "cell_type": "code",
   "execution_count": 93,
   "metadata": {},
   "outputs": [
    {
     "data": {
      "text/plain": [
       "0.9984320284325511"
      ]
     },
     "execution_count": 93,
     "metadata": {},
     "output_type": "execute_result"
    }
   ],
   "source": [
    "#score of the model\n",
    "model.score(X_test,y_test)"
   ]
  },
  {
   "cell_type": "code",
   "execution_count": 95,
   "metadata": {},
   "outputs": [
    {
     "data": {
      "text/plain": [
       "array([[0.99896231, 0.00103769],\n",
       "       [0.99895287, 0.00104713],\n",
       "       [0.99894652, 0.00105348],\n",
       "       ...,\n",
       "       [0.99895917, 0.00104083],\n",
       "       [0.99896569, 0.00103431],\n",
       "       [0.99890102, 0.00109898]])"
      ]
     },
     "execution_count": 95,
     "metadata": {},
     "output_type": "execute_result"
    }
   ],
   "source": [
    "#check probability scores\n",
    "model.predict_proba(X_test)"
   ]
  },
  {
   "cell_type": "code",
   "execution_count": 171,
   "metadata": {},
   "outputs": [],
   "source": []
  },
  {
   "cell_type": "code",
   "execution_count": 173,
   "metadata": {},
   "outputs": [
    {
     "data": {
      "text/plain": [
       "False"
      ]
     },
     "execution_count": 173,
     "metadata": {},
     "output_type": "execute_result"
    }
   ],
   "source": []
  },
  {
   "cell_type": "code",
   "execution_count": null,
   "metadata": {},
   "outputs": [],
   "source": []
  }
 ],
 "metadata": {
  "kernelspec": {
   "display_name": "Python 3",
   "language": "python",
   "name": "python3"
  },
  "language_info": {
   "codemirror_mode": {
    "name": "ipython",
    "version": 3
   },
   "file_extension": ".py",
   "mimetype": "text/x-python",
   "name": "python",
   "nbconvert_exporter": "python",
   "pygments_lexer": "ipython3",
   "version": "3.7.1"
  }
 },
 "nbformat": 4,
 "nbformat_minor": 2
}
